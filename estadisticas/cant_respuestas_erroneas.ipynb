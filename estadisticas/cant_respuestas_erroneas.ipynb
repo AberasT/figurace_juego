{
 "cells": [
  {
   "cell_type": "markdown",
   "metadata": {},
   "source": [
    "# Cantidad de tarjetas en las que el usuarie dió una respuesta errónea."
   ]
  },
  {
   "cell_type": "code",
   "execution_count": 6,
   "metadata": {},
   "outputs": [
    {
     "name": "stdout",
     "output_type": "stream",
     "text": [
      "El usuarie un_nick dio una respuesta erronea en 77 tarjetas\n",
      "El usuarie whatsername dio una respuesta erronea en 42 tarjetas\n"
     ]
    },
    {
     "data": {
      "image/png": "[encoded data removed]",
      "text/plain": [
       "<Figure size 432x288 with 1 Axes>"
      ]
     },
     "metadata": {
      "needs_background": "light"
     },
     "output_type": "display_data"
    }
   ],
   "source": [
    "import pandas as pd\n",
    "import os\n",
    "import matplotlib.pyplot as plt\n",
    "\n",
    "ruta = os.path.join(os.getcwd(), '..', 'src', 'datos', 'eventos_partidas.csv')\n",
    "data_set = pd.read_csv(ruta, encoding='utf-8')\n",
    "\n",
    "dataset_errores = data_set[data_set[\"estado\"] == \"error\"]\n",
    "cant_respuestas_erroneas = dataset_errores.groupby([\"usuarie\"])[\"usuarie\"].count()\n",
    "\n",
    "usuario= []\n",
    "erroneas=[]\n",
    "for usuarie in cant_respuestas_erroneas.index:\n",
    "    usuario.append(usuarie)\n",
    "    erroneas.append(cant_respuestas_erroneas[usuarie])\n",
    "    print(f\"El usuarie {usuarie} dio una respuesta erronea en {cant_respuestas_erroneas[usuarie]} tarjetas\")\n",
    "\n",
    "plt.bar(usuario,erroneas)\n",
    "plt.ylabel('ERRORES')\n",
    "plt.title('Cantidad respuestas erroneas')\n",
    "plt.show()"
   ]
  }
 ],
 "metadata": {
  "kernelspec": {
   "display_name": "Python 3 (ipykernel)",
   "language": "python",
   "name": "python3"
  },
  "language_info": {
   "codemirror_mode": {
    "name": "ipython",
    "version": 3
   },
   "file_extension": ".py",
   "mimetype": "text/x-python",
   "name": "python",
   "nbconvert_exporter": "python",
   "pygments_lexer": "ipython3",
   "version": "3.10.4"
  },
  "vscode": {
   "interpreter": {
    "hash": "bfb1119d74637becc52ba92ae280a3e347c80b09a27d9ac0dc93d52677b7fdd3"
   }
  }
 },
 "nbformat": 4,
 "nbformat_minor": 2
}
