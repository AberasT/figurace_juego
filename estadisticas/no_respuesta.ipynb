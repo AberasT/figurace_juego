{
 "cells": [
  {
   "cell_type": "markdown",
   "metadata": {},
   "source": [
    "● Cantidad de tarjetas para las que el usuarie no dió respuesta (timeout).\n",
    "Primero importo las librerias necesarias para obtener la estadistica"
   ]
  },
  {
   "cell_type": "code",
   "execution_count": 3,
   "metadata": {},
   "outputs": [],
   "source": [
    "import pandas as pd\n",
    "import os\n",
    "from matplotlib import pyplot as plt\n",
    "\n",
    "ruta = os.path.join(os.getcwd(), '..', 'src', 'datos', 'eventos_partidas.csv')\n",
    "\n",
    "data_set = pd.read_csv(ruta, encoding='utf-8')"
   ]
  },
  {
   "cell_type": "markdown",
   "metadata": {},
   "source": [
    "Obtengo las veces que hubo timeout y las ordeno en base a los usuarios"
   ]
  },
  {
   "cell_type": "code",
   "execution_count": 6,
   "metadata": {},
   "outputs": [
    {
     "name": "stdout",
     "output_type": "stream",
     "text": [
      "El usuarie: un_nick se quedo sin tiempo 2 veces.\n"
     ]
    },
    {
     "data": {
      "image/png": "[encoded data removed]",
      "text/plain": [
       "<Figure size 432x288 with 1 Axes>"
      ]
     },
     "metadata": {
      "needs_background": "light"
     },
     "output_type": "display_data"
    }
   ],
   "source": [
    "timeout = data_set[data_set[\"estado\"] == 'timeout']\n",
    "ids=[]\n",
    "cant_outs=[]\n",
    "timeout_x_usuarie = timeout.groupby([\"usuarie\"]).size()\n",
    "for usuarie in timeout_x_usuarie.keys():\n",
    "    ids.append(usuarie)\n",
    "    cant_outs.append(timeout_x_usuarie[usuarie])\n",
    "    print(\"El usuarie:\", usuarie, \"se quedo sin tiempo\",timeout_x_usuarie[usuarie], \"veces.\")\n",
    "\n",
    "plt.bar(ids,cant_outs)\n",
    "plt.ylabel('Time')\n",
    "plt.title('Cantidad de timeouts por usuario ')\n",
    "plt.show()"
   ]
  }
 ],
 "metadata": {
  "kernelspec": {
   "display_name": "Python 3 (ipykernel)",
   "language": "python",
   "name": "python3"
  },
  "language_info": {
   "codemirror_mode": {
    "name": "ipython",
    "version": 3
   },
   "file_extension": ".py",
   "mimetype": "text/x-python",
   "name": "python",
   "nbconvert_exporter": "python",
   "pygments_lexer": "ipython3",
   "version": "3.10.4"
  },
  "vscode": {
   "interpreter": {
    "hash": "e36174c3e4652f79e9f453622064d55f4342e480e5ebdc3d2400a9e848129485"
   }
  }
 },
 "nbformat": 4,
 "nbformat_minor": 2
}
