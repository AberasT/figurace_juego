{
 "cells": [
  {
   "cell_type": "markdown",
   "metadata": {},
   "source": [
    "# Top 10 de palabras que se encuentran primero de todas las partidas.\n",
    "\n",
    "Interpretación:\n",
    "Se toma la respuesta correcta de la primera tarjeta de cada partida, y se hace un top 10 de ese conteo\n",
    "\n",
    "Primero importo las librerias necesarias para la estadistica y abro el archivo"
   ]
  },
  {
   "cell_type": "code",
   "execution_count": 33,
   "metadata": {},
   "outputs": [],
   "source": [
    "import pandas as pd\n",
    "import os\n",
    "import collections\n",
    "\n",
    "ruta = os.path.join(os.getcwd(), '..', 'src', 'datos', 'eventos_partidas.csv')"
   ]
  },
  {
   "cell_type": "code",
   "execution_count": 34,
   "metadata": {},
   "outputs": [
    {
     "name": "stdout",
     "output_type": "stream",
     "text": [
      "Lago Tromen\n",
      "Mayon (Philippines)\n",
      "Banda Api (Pacific Ocean)\n",
      "Myojun Knoll (Japan)\n",
      "Adnan Vidual\n",
      "Lago Río Bueno\n",
      "Willem Janssen\n",
      "The Whole Truth\n",
      "Lago General Vintter\n",
      "Kirishima (Japan)\n"
     ]
    }
   ],
   "source": [
    "data_set = pd.read_csv(ruta, encoding='utf-8')\n",
    "\n",
    "data_set = data_set[[\"id\",\"estado\",\"respuesta\"]]\n",
    "\n",
    "primeras_correctas = []\n",
    "for id in data_set[\"id\"].unique():\n",
    "    lista_indices = data_set[data_set[\"id\"] == id].index.values\n",
    "    primeras_correctas.append(data_set.at[lista_indices[1],\"respuesta\"])\n",
    "\n",
    "contador = collections.Counter(primeras_correctas)\n",
    "top_diez = contador.most_common(10)\n",
    "\n",
    "print(\"Top 10\")\n",
    "for elem in top_diez:\n",
    "    print(elem[0])"
   ]
  }
 ],
 "metadata": {
  "kernelspec": {
   "display_name": "Python 3.9.7 ('base')",
   "language": "python",
   "name": "python3"
  },
  "language_info": {
   "codemirror_mode": {
    "name": "ipython",
    "version": 3
   },
   "file_extension": ".py",
   "mimetype": "text/x-python",
   "name": "python",
   "nbconvert_exporter": "python",
   "pygments_lexer": "ipython3",
   "version": "3.9.7"
  },
  "orig_nbformat": 4,
  "vscode": {
   "interpreter": {
    "hash": "e36174c3e4652f79e9f453622064d55f4342e480e5ebdc3d2400a9e848129485"
   }
  }
 },
 "nbformat": 4,
 "nbformat_minor": 2
}
