{
 "cells": [
  {
   "cell_type": "markdown",
   "metadata": {},
   "source": [
    "# Tiempo de la respuesta exitosa más rápida"
   ]
  },
  {
   "cell_type": "code",
   "execution_count": 1,
   "metadata": {},
   "outputs": [
    {
     "name": "stdout",
     "output_type": "stream",
     "text": [
      "El tiempo de respuesta exitosa mas rapida es de 0 segundos\n"
     ]
    }
   ],
   "source": [
    "import pandas as pd\n",
    "import os\n",
    "\n",
    "ruta = os.path.join(os.getcwd(), '..', 'src', 'datos', 'eventos_partidas.csv')\n",
    "data_set = pd.read_csv(ruta, encoding='utf-8')\n",
    "\n",
    "#Asumimos que se refiere al tiempo mas rapido desde que arrancó la ronda.\n",
    "data_set = data_set[[\"timestamp\", \"estado\"]]\n",
    "data_set = data_set[(data_set[\"estado\"] == \"ok\") | (data_set[\"estado\"] == \"error\") | (data_set[\"estado\"] == \"nueva\")]\n",
    "\n",
    "tiempo_mas_rapido = 10000\n",
    "for i in range(2, len(data_set)):\n",
    "    if(data_set.iloc[i][\"estado\"] == \"ok\"): \n",
    "        tiempo_respuesta = data_set.iloc[i][\"timestamp\"] - data_set.iloc[i-1][\"timestamp\"]\n",
    "    if(tiempo_respuesta < tiempo_mas_rapido): tiempo_mas_rapido = tiempo_respuesta\n",
    "\n",
    "print(f\"El tiempo de respuesta exitosa mas rapida es de {tiempo_mas_rapido} segundos\")    "
   ]
  }
 ],
 "metadata": {
  "kernelspec": {
   "display_name": "Python 3.10.4 ('venv': venv)",
   "language": "python",
   "name": "python3"
  },
  "language_info": {
   "codemirror_mode": {
    "name": "ipython",
    "version": 3
   },
   "file_extension": ".py",
   "mimetype": "text/x-python",
   "name": "python",
   "nbconvert_exporter": "python",
   "pygments_lexer": "ipython3",
   "version": "3.10.4"
  },
  "orig_nbformat": 4,
  "vscode": {
   "interpreter": {
    "hash": "bfb1119d74637becc52ba92ae280a3e347c80b09a27d9ac0dc93d52677b7fdd3"
   }
  }
 },
 "nbformat": 4,
 "nbformat_minor": 2
}
