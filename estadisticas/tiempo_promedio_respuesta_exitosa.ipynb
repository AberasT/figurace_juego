{
 "cells": [
  {
   "cell_type": "markdown",
   "metadata": {},
   "source": [
    "# Promedio de tiempo de respuesta para respuestas exitosas."
   ]
  },
  {
   "cell_type": "code",
   "execution_count": 12,
   "metadata": {},
   "outputs": [],
   "source": [
    "import pandas as pd\n",
    "import os\n",
    "\n",
    "ruta = os.path.join(os.getcwd(), '..', 'src', 'datos', 'eventos_partidas.csv')\n",
    "data_set = pd.read_csv(ruta, encoding='utf-8')"
   ]
  },
  {
   "cell_type": "code",
   "execution_count": 13,
   "metadata": {},
   "outputs": [
    {
     "name": "stdout",
     "output_type": "stream",
     "text": [
      "El tiempo promedio de respuesta exitosa es de 0.467 segundos\n"
     ]
    }
   ],
   "source": [
    "data_set = data_set[[\"timestamp\", \"estado\"]]\n",
    "data_set = data_set[(data_set[\"estado\"] == \"ok\") | (data_set[\"estado\"] == \"error\") | (data_set[\"estado\"] == \"nueva\")]\n",
    "\n",
    "cant_respuestas_exitosas = 0\n",
    "tiempo_total_respuesta = 0\n",
    "\n",
    "for i in range(2, len(data_set)):\n",
    "    if(data_set.iloc[i][\"estado\"] == \"ok\"): \n",
    "        tiempo_total_respuesta += data_set.iloc[i][\"timestamp\"] - data_set.iloc[i-1][\"timestamp\"]\n",
    "\n",
    "cant_respuestas_exitosas = len(data_set[data_set[\"estado\"] == \"ok\"])\n",
    "\n",
    "tiempo_promedio = tiempo_total_respuesta/cant_respuestas_exitosas\n",
    "print(\n",
    "    f\"El tiempo promedio de respuesta exitosa es de {round(tiempo_promedio, 3)} segundos\")\n"
   ]
  }
 ],
 "metadata": {
  "kernelspec": {
   "display_name": "Python 3.10.4 ('venv': venv)",
   "language": "python",
   "name": "python3"
  },
  "language_info": {
   "codemirror_mode": {
    "name": "ipython",
    "version": 3
   },
   "file_extension": ".py",
   "mimetype": "text/x-python",
   "name": "python",
   "nbconvert_exporter": "python",
   "pygments_lexer": "ipython3",
   "version": "3.10.4"
  },
  "orig_nbformat": 4,
  "vscode": {
   "interpreter": {
    "hash": "bfb1119d74637becc52ba92ae280a3e347c80b09a27d9ac0dc93d52677b7fdd3"
   }
  }
 },
 "nbformat": 4,
 "nbformat_minor": 2
}
