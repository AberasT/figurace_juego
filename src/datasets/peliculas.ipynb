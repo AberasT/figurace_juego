{
 "cells": [
  {
   "cell_type": "markdown",
   "metadata": {},
   "source": [
    "## Dataset de películas"
   ]
  },
  {
   "cell_type": "markdown",
   "metadata": {},
   "source": [
    "#### Manejo del archivo original\n",
    "El archivo original posee un formato incorrecto con respecto a los separadores. Primero se soluciona eso filtrando las lineas del csv que tengan menos de 9 columnas"
   ]
  },
  {
   "cell_type": "code",
   "execution_count": 155,
   "metadata": {},
   "outputs": [],
   "source": [
    "import csv\n",
    "import os\n",
    "import collections\n",
    "import random\n",
    "import pandas as pd\n",
    "\n",
    "ruta_wd = os.getcwd()\n",
    "ruta_original = os.path.join(ruta_wd,\"mymoviedb.csv\")\n",
    "ruta_arreglado = os.path.join(ruta_wd,\"mymoviedb_arreglado.csv\")\n",
    "\n",
    "with open(ruta_original,encoding=\"utf-8\") as archivo:\n",
    "    csvreader = csv.reader(archivo,delimiter=',')\n",
    "    lista = [linea for linea in csvreader if len(linea) == 9]\n",
    "\n",
    "with open(ruta_arreglado,\"w\",encoding=\"utf-8\") as archivo:\n",
    "    writer = csv.writer(archivo,delimiter=',',lineterminator='\\n')\n",
    "    for linea in lista: writer.writerow(linea)"
   ]
  },
  {
   "cell_type": "markdown",
   "metadata": {},
   "source": [
    "Con el archivo listo, se empieza a utilizar pandas para reordenar las columnas y descartar las innecesarias"
   ]
  },
  {
   "cell_type": "code",
   "execution_count": 156,
   "metadata": {},
   "outputs": [
    {
     "name": "stdout",
     "output_type": "stream",
     "text": [
      "['en' 'ja' 'fr' 'hi' 'es' 'ru' 'de' 'th' 'ko' 'tr' 'cn' 'zh' 'it' 'pt'\n",
      " 'ml' 'pl' 'fi' 'no' 'da' 'id' 'sv' 'nl' 'te' 'sr' 'is' 'ro' 'tl' 'fa'\n",
      " 'uk' 'nb' 'eu' 'lv' 'ar' 'el' 'cs' 'ms' 'bn' 'ca' 'la' 'ta' 'hu' 'he'\n",
      " 'et']\n"
     ]
    }
   ],
   "source": [
    "\n",
    "archivo_original = pd.read_csv(ruta_arreglado, encoding=\"utf-8\", delimiter=\",\")\n",
    "columnas = archivo_original.columns\n",
    "\n",
    "archivo_modif = archivo_original[[columnas[7],columnas[6],columnas[0],columnas[5],columnas[2],columnas[1]]]\n",
    "\n",
    "print(archivo_modif['Original_Language'].unique())\n",
    "# No hay lenguajes de mas de 2 caracteres\n",
    "\n",
    "# Saco las overviews vacias\n",
    "archivo_modif = archivo_modif[archivo_modif['Overview'] != \"\"]"
   ]
  },
  {
   "cell_type": "markdown",
   "metadata": {},
   "source": [
    "#### Contador de palabras de todas las overviews"
   ]
  },
  {
   "cell_type": "code",
   "execution_count": 157,
   "metadata": {},
   "outputs": [
    {
     "name": "stdout",
     "output_type": "stream",
     "text": [
      "['the', 'a', 'to', 'and', 'of', 'in', 'his', 'is', 'with', 'her', 'an', 'he', 'for', 'on', 'that', 'their', 'when', 'as', 'by', 'who', 'from', 'but', 'they', 'she', 'are', 'has', 'after', 'into', 'at', 'him', 'life', 'new', 'one', 'young', 'it', 'up', 'out', 'world', 'be', 'must', 'two', 'this', 'will', 'have', 'all', 'family', 'them', 'find', 'man', 'only', 'love', 'while', 'where', 'friends', 'finds', 'years', 'time', 'story', 'about', 'not', 'woman', 'help', 'school', 'get', 'home', 'back', 'was', 'can', 'mysterious', 'own', 'what', 'against', 'now', 'take', 'group', 'which', 'save', 'way', 'before', 'more', 'first', 'soon', 'girl', 'other', 'been', 'himself', 'through', 'war', 'father', 'become', 'over', 'lives', 'becomes', 'most', 'town', 'being', 'takes', 'down', 'during', 'team']\n"
     ]
    }
   ],
   "source": [
    "contador = collections.Counter()\n",
    "\n",
    "overviews = archivo_modif[\"Overview\"]\n",
    "overviews = overviews.apply(lambda x: x.lower().replace(\",\",\"\").replace(\".\",\"\").replace(\"-\",\"\"))\n",
    "\n",
    "overviews_palabras = overviews.str.split()\n",
    "\n",
    "contador = collections.Counter()\n",
    "overviews_palabras.apply(lambda x: contador.update(x))\n",
    "\n",
    "palabras_mas_comunes = list(map(lambda x: x[0],contador.most_common(100)))\n",
    "print(palabras_mas_comunes)"
   ]
  },
  {
   "cell_type": "markdown",
   "metadata": {},
   "source": [
    "#### Funciones para transformar las sinopsis"
   ]
  },
  {
   "cell_type": "code",
   "execution_count": 158,
   "metadata": {},
   "outputs": [],
   "source": [
    "def eliminar_palabras_comunes(overview,palabras_comunes):\n",
    "    \"\"\" Recibe una sinopsis de pelicula en string, le elimina las palabras mas comunes, y la retorna en tipo lista \"\"\"\n",
    "    overview_filtrado = list(filter(lambda x: x not in palabras_comunes,overview))\n",
    "    return overview_filtrado\n",
    "\n",
    "def reducir_overview_random(overview):\n",
    "    \"\"\" Recibe una sinopsis en lista, la desordena, y retorna 3 palabras al azar, separadas con \";\" en una string \"\"\"\n",
    "    if len(overview) < 3: \n",
    "        random.shuffle(overview)\n",
    "        overview_reducida = overview\n",
    "    else :\n",
    "        random.shuffle(overview)\n",
    "        overview_reducida = random.sample(overview,3)\n",
    "    overview_reducida = [elem.strip().strip('\"') for elem in overview_reducida]\n",
    "    overview_reducida_str = \"; \".join(overview_reducida)\n",
    "    return overview_reducida_str\n",
    "\n",
    "def modificar_overview(overview,palabras_comunes):\n",
    "    \"\"\" Recibe una lista de palabras (la overview) y devuelve un string en formato solicitado en base a esa lista \"\"\"\n",
    "    ov = eliminar_palabras_comunes(overview,palabras_comunes)\n",
    "    return reducir_overview_random(ov)\n",
    "\n",
    "overviews_modif = overviews_palabras.apply(modificar_overview,args=(palabras_mas_comunes,))"
   ]
  },
  {
   "cell_type": "markdown",
   "metadata": {},
   "source": [
    "#### Ejemplo de cómo queda el overview de una película"
   ]
  },
  {
   "cell_type": "code",
   "execution_count": 159,
   "metadata": {},
   "outputs": [
    {
     "name": "stdout",
     "output_type": "stream",
     "text": [
      "--------------------------------------------------\n",
      "Sinopsis original \n",
      "\n",
      " Peter Parker is unmasked and no longer able to separate his normal life from the high-stakes of being a super-hero. When he asks for help from Doctor Strange the stakes become even more dangerous, forcing him to discover what it truly means to be Spider-Man.\n",
      "\n",
      "--------------------------------------------------\n",
      "Sinopsis sin las 100 palabras más comunes\n",
      "\n",
      "['peter', 'parker', 'unmasked', 'no', 'longer', 'able', 'separate', 'normal', 'highstakes', 'superhero', 'asks', 'doctor', 'strange', 'stakes', 'even', 'dangerous', 'forcing', 'discover', 'truly', 'means', 'spiderman']\n",
      "\n",
      "--------------------------------------------------\n",
      "Sinopsis en 3 palabras al azar\n",
      "\n",
      "discover; truly; superhero\n"
     ]
    }
   ],
   "source": [
    "print(\"-\"*50)\n",
    "print(f\"Sinopsis original \\n\\n {archivo_modif.iloc[0,4]}\\n\")\n",
    "overview_sin_comunes = eliminar_palabras_comunes(overviews_palabras.iloc[0],palabras_mas_comunes)\n",
    "print(\"-\"*50)\n",
    "print(f\"Sinopsis sin las 100 palabras más comunes\\n\\n{overview_sin_comunes}\\n\")\n",
    "print(\"-\"*50)\n",
    "overview_final = reducir_overview_random(overview_sin_comunes)\n",
    "print(f\"Sinopsis en 3 palabras al azar\\n\\n{overview_final}\")"
   ]
  },
  {
   "cell_type": "markdown",
   "metadata": {},
   "source": [
    "#### Generación del nuevo dataset\n",
    "Se reemplazan las overviews por las nuevas generadas y se guarda el archivo"
   ]
  },
  {
   "cell_type": "code",
   "execution_count": 160,
   "metadata": {},
   "outputs": [],
   "source": [
    "archivo_modif[\"Overview\"] = overviews_modif\n",
    "\n",
    "ruta_nuevo = os.path.join(ruta_wd,\"peliculas_formateado.csv\")\n",
    "archivo_modif.to_csv(ruta_nuevo, index=False)"
   ]
  }
 ],
 "metadata": {
  "interpreter": {
   "hash": "e36174c3e4652f79e9f453622064d55f4342e480e5ebdc3d2400a9e848129485"
  },
  "kernelspec": {
   "display_name": "Python 3.9.7 ('base')",
   "language": "python",
   "name": "python3"
  },
  "language_info": {
   "codemirror_mode": {
    "name": "ipython",
    "version": 3
   },
   "file_extension": ".py",
   "mimetype": "text/x-python",
   "name": "python",
   "nbconvert_exporter": "python",
   "pygments_lexer": "ipython3",
   "version": "3.9.7"
  },
  "orig_nbformat": 4
 },
 "nbformat": 4,
 "nbformat_minor": 2
}
