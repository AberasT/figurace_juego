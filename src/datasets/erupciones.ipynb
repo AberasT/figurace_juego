{
 "cells": [
  {
   "cell_type": "markdown",
   "metadata": {},
   "source": [
    "# Erupciones Volcánicas"
   ]
  },
  {
   "cell_type": "markdown",
   "metadata": {},
   "source": [
    "Genero un diccionario con las traducciones para cada tipo de volcan y abro el archivo. Transformo el dataset en lista para procesarlo y me quedo con la cabecera para acomodarla"
   ]
  },
  {
   "cell_type": "code",
   "execution_count": 1,
   "metadata": {},
   "outputs": [],
   "source": [
    "import os\n",
    "import pandas as pd\n",
    "import math\n",
    "\n",
    "diccionario_ingles = {'Caldera': 'Caldera', 'Lava dome': 'Arandela De Cúpula', 'Complex volcano': 'Volcán Complejo',\n",
    "                        'Stratovolcano': 'Estratovolcán', 'Shield volcano': 'Volcán En Escudo', 'Subglacial volcano': 'Volcán Subglacial',\n",
    "                        'Pyroclastic cone': 'Cono Piroclástico', 'Submarine volcano': 'Volcán Submarino', 'Pyroclastic shield': 'Escudo Piroclástico',\n",
    "                     'Tuff cone': 'Cono De Toba', 'Crater rows': 'Filas De Cráteres', 'Fissure vent': 'Grieta De Viento',\n",
    "                        'Lava cone': 'Cono De Lavado', 'Maar': 'Pero', 'Compound volcano': 'Volcán Compuesto', 'Cinder cone': 'Cono De Ceniza',\n",
    "                     'Pumice cone': 'Cono De Piedra Pómez', 'Mud volcano': 'Volcán De Lodo', 'Volcanic field': 'Campo Volcánico',\n",
    "                      'Submarine volcanoes': 'Volcanes Submarinos'}\n",
    "\n",
    "def traducir(palabra):\n",
    "    return diccionario_ingles[palabra]\n",
    "\n",
    "ruta = os.path.realpath(\"erupciones.csv\")\n",
    "data_set = pd.read_csv(ruta, encoding=\"utf-8\", delimiter=\";\")"
   ]
  },
  {
   "cell_type": "markdown",
   "metadata": {},
   "source": [
    "## Se procesan las lineas\n",
    "Traduzco la columna 9, elimino caracteres incorrectos de los años, transformo los flag de tsunami y terremoto, y acomodo ciertos valores de la columna 11."
   ]
  },
  {
   "cell_type": "code",
   "execution_count": 2,
   "metadata": {},
   "outputs": [],
   "source": [
    "columnas = data_set.columns\n",
    "nombre_volcan = data_set[\"Volcano Name\"]\n",
    "pais = data_set[\"Country\"]\n",
    "data_set = data_set[[columnas[0],columnas[11], columnas[9], columnas[3], columnas[4]]]\n",
    "data_set[\"Name and Country\"] = None\n",
    "for linea in range(len(data_set)):\n",
    "    data_set.at[linea, columnas[9]] = traducir(data_set.at[linea, columnas[9]])\n",
    "    data_set.at[linea, columnas[0]] = ''.join(str(data_set.at[linea, columnas[0]]).strip(\"-\") + \" dC\") if data_set.at[linea, columnas[0]] > 0 else ''.join(str(data_set.at[linea, columnas[0]]).strip(\"-\") + \" aC\")\n",
    "    data_set.at[linea, columnas[3]] = True if 'Tsunami' in str(data_set.at[linea, columnas[3]]) else False\n",
    "    data_set.at[linea, columnas[4]] = True if 'Earthquake' in str(data_set.at[linea, columnas[4]]) else False\n",
    "    if math.isnan(data_set.at[linea, columnas[11]]): data_set.at[linea, columnas[11]] = 0\n",
    "    data_set.at[linea, 'Name and Country'] = ''.join(nombre_volcan[linea]+\" (\"+pais[linea]+\")\")\n",
    "\n",
    "ruta_nuevo = os.path.realpath(\"erupciones_FORMATEADO.csv\")\n",
    "data_set.to_csv(ruta_nuevo, index= False)"
   ]
  },
  {
   "cell_type": "markdown",
   "metadata": {},
   "source": [
    "Finalmente, voy guardando cada linea procesada y se cierra el archivo"
   ]
  }
 ],
 "metadata": {
  "kernelspec": {
   "display_name": "Python 3.10.4 ('venv': venv)",
   "language": "python",
   "name": "python3"
  },
  "language_info": {
   "codemirror_mode": {
    "name": "ipython",
    "version": 3
   },
   "file_extension": ".py",
   "mimetype": "text/x-python",
   "name": "python",
   "nbconvert_exporter": "python",
   "pygments_lexer": "ipython3",
   "version": "3.10.4"
  },
  "orig_nbformat": 4,
  "vscode": {
   "interpreter": {
    "hash": "bfb1119d74637becc52ba92ae280a3e347c80b09a27d9ac0dc93d52677b7fdd3"
   }
  }
 },
 "nbformat": 4,
 "nbformat_minor": 2
}
