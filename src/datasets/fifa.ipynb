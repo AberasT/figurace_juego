{
 "cells": [
  {
   "cell_type": "markdown",
   "metadata": {},
   "source": [
    "# CODIGO FIFA"
   ]
  },
  {
   "cell_type": "markdown",
   "metadata": {},
   "source": [
    "Opcional uso de GoogleTranslator por si las posiciones estan en ingles\n",
    "en mi caso, las guarde en español una vez ya traducidas"
   ]
  },
  {
   "cell_type": "code",
   "execution_count": null,
   "metadata": {},
   "outputs": [],
   "source": [
    "\n",
    "# pip install -U deep-translator\n",
    "#from deep_translator import GoogleTranslator\n",
    "#translated = GoogleTranslator(source='auto', target='es').translate(\"keep it up, you are awesome\") \n",
    "\n",
    "'''#Traducir posiciones a partir de valores en el valor\n",
    "for x in pos:\n",
    "    palabra = GoogleTranslator(source='auto', target='es').translate(pos[x])\n",
    "    pos[x]= palabra\n",
    "'''"
   ]
  },
  {
   "cell_type": "code",
   "execution_count": 22,
   "metadata": {},
   "outputs": [],
   "source": [
    "import csv\n",
    "\n",
    "nomb_posiciones= {\"GK\":\"Portero\",\"CB\":\"Defensa central\",\"RB\":\"Defensa lateral\",\"LB\":\"Defensa lateral (lateral derecha)\",\n",
    "\"RWB\":\"Lateral (lateral izquierdo)\",\"LWB\":\"Extremo\",\"RW\":\"Extremo derecho\",\n",
    "\"LW\":\"Extremo derecho\",\"CM\":\"Mediocampista central\",\"CDM\":\"Mediocampista defensivo\",\n",
    "\"CAM\":\"Mediocampista ofensivo\",\"RM\":\"Mediocampista lateral\",\"LM\":\"Mediocampista lateral (Mediocampista derecho)\",\n",
    "\"ST\":\"Delantero\",\"CF\":\"Delantero central\",\"RF\":\"Delantero derecho\",\"LF\":\"Delantero izquierdo\",\n",
    "\"RW\":\"Extremo (Extremo derecho)\",\"LW\":\"Extremo (Extremo izquierdo)\"}\n",
    "\n",
    "# UTILIZO FUNCION PARA REEMPLAZAR EL VALOR NUMERICO POR CATEGORIA DE POTENCIAL\n",
    "def potencial(x):\n",
    "    if (x<60):\n",
    "        return \"Regular\"\n",
    "    elif(x<=79):\n",
    "        return \"Bueno\"\n",
    "    elif(x<=89):\n",
    "        return \"Muy bueno\"\n",
    "    else:\n",
    "        return \"Sobresaliente\"\n",
    "\n",
    "# CREO NUEVO CSV FORMATEADO\n",
    "with open ('fifa21.csv','r',encoding='utf-8') as arch:\n",
    "    with open ('jugadores_formateado.csv','w',encoding='utf-8') as arch_nuevo:\n",
    "        data= csv.reader(arch,delimiter=';')\n",
    "        writer = csv.writer(arch_nuevo, lineterminator='\\n')\n",
    "        header , logs_recurso = next(data), list(data) \n",
    "        new_header= [header[8],header[2], header[3],header[5],header[7],header[1]]\n",
    "        writer.writerow(new_header)\n",
    "        for x in logs_recurso:\n",
    "            lista= x[3].split('|')\n",
    "            nombres = [nomb_posiciones[x] for x in lista]\n",
    "            nombres_unidos= '|'.join(nombres)\n",
    "           # nombres= list(map(lambda x: nomb_posiciones[x],lista))\n",
    "            writer.writerow([x[8],x[2],nombres_unidos,x[5],potencial(int(x[7])),x[1]])\n"
   ]
  },
  {
   "cell_type": "code",
   "execution_count": 1,
   "metadata": {},
   "outputs": [
    {
     "ename": "TypeError",
     "evalue": "read_csv() got an unexpected keyword argument 'index'",
     "output_type": "error",
     "traceback": [
      "\u001b[1;31m---------------------------------------------------------------------------\u001b[0m",
      "\u001b[1;31mTypeError\u001b[0m                                 Traceback (most recent call last)",
      "\u001b[1;32mc:\\Users\\gon\\Desktop\\Integrador\\grupo36\\src\\datasets\\fifa.ipynb Cell 5'\u001b[0m in \u001b[0;36m<cell line: 26>\u001b[1;34m()\u001b[0m\n\u001b[0;32m     <a href='vscode-notebook-cell:/c%3A/Users/gon/Desktop/Integrador/grupo36/src/datasets/fifa.ipynb#ch0000004?line=22'>23</a>\u001b[0m     nombres_unidos\u001b[39m=\u001b[39m \u001b[39m'\u001b[39m\u001b[39m|\u001b[39m\u001b[39m'\u001b[39m\u001b[39m.\u001b[39mjoin(nombres)\n\u001b[0;32m     <a href='vscode-notebook-cell:/c%3A/Users/gon/Desktop/Integrador/grupo36/src/datasets/fifa.ipynb#ch0000004?line=23'>24</a>\u001b[0m     \u001b[39mreturn\u001b[39;00m nombres_unidos\n\u001b[1;32m---> <a href='vscode-notebook-cell:/c%3A/Users/gon/Desktop/Integrador/grupo36/src/datasets/fifa.ipynb#ch0000004?line=25'>26</a>\u001b[0m df \u001b[39m=\u001b[39m pd\u001b[39m.\u001b[39;49mread_csv(\u001b[39m'\u001b[39;49m\u001b[39mfifa21.csv\u001b[39;49m\u001b[39m'\u001b[39;49m, encoding\u001b[39m=\u001b[39;49m\u001b[39m\"\u001b[39;49m\u001b[39mutf-8\u001b[39;49m\u001b[39m\"\u001b[39;49m, delimiter\u001b[39m=\u001b[39;49m\u001b[39m\"\u001b[39;49m\u001b[39m;\u001b[39;49m\u001b[39m\"\u001b[39;49m, index\u001b[39m=\u001b[39;49m \u001b[39mNone\u001b[39;49;00m)\n\u001b[0;32m     <a href='vscode-notebook-cell:/c%3A/Users/gon/Desktop/Integrador/grupo36/src/datasets/fifa.ipynb#ch0000004?line=26'>27</a>\u001b[0m columnas\u001b[39m=\u001b[39m df\u001b[39m.\u001b[39mcolumns\n\u001b[0;32m     <a href='vscode-notebook-cell:/c%3A/Users/gon/Desktop/Integrador/grupo36/src/datasets/fifa.ipynb#ch0000004?line=27'>28</a>\u001b[0m df \u001b[39m=\u001b[39m df[[columnas[\u001b[39m8\u001b[39m],columnas[\u001b[39m2\u001b[39m],columnas[\u001b[39m3\u001b[39m], columnas[\u001b[39m5\u001b[39m], columnas[\u001b[39m7\u001b[39m], columnas[\u001b[39m1\u001b[39m]]]\n",
      "File \u001b[1;32mc:\\Users\\gon\\Desktop\\Integrador\\grupo36\\venv\\lib\\site-packages\\pandas\\util\\_decorators.py:311\u001b[0m, in \u001b[0;36mdeprecate_nonkeyword_arguments.<locals>.decorate.<locals>.wrapper\u001b[1;34m(*args, **kwargs)\u001b[0m\n\u001b[0;32m    305\u001b[0m \u001b[39mif\u001b[39;00m \u001b[39mlen\u001b[39m(args) \u001b[39m>\u001b[39m num_allow_args:\n\u001b[0;32m    306\u001b[0m     warnings\u001b[39m.\u001b[39mwarn(\n\u001b[0;32m    307\u001b[0m         msg\u001b[39m.\u001b[39mformat(arguments\u001b[39m=\u001b[39marguments),\n\u001b[0;32m    308\u001b[0m         \u001b[39mFutureWarning\u001b[39;00m,\n\u001b[0;32m    309\u001b[0m         stacklevel\u001b[39m=\u001b[39mstacklevel,\n\u001b[0;32m    310\u001b[0m     )\n\u001b[1;32m--> 311\u001b[0m \u001b[39mreturn\u001b[39;00m func(\u001b[39m*\u001b[39margs, \u001b[39m*\u001b[39m\u001b[39m*\u001b[39mkwargs)\n",
      "\u001b[1;31mTypeError\u001b[0m: read_csv() got an unexpected keyword argument 'index'"
     ]
    }
   ],
   "source": [
    "import pandas as pd\n",
    "\n",
    "nomb_posiciones= {\"GK\":\"Portero\",\"CB\":\"Defensa central\",\"RB\":\"Defensa lateral\",\"LB\":\"Defensa lateral (lateral derecha)\",\n",
    "\"RWB\":\"Lateral (lateral izquierdo)\",\"LWB\":\"Extremo\",\"RW\":\"Extremo derecho\",\n",
    "\"LW\":\"Extremo derecho\",\"CM\":\"Mediocampista central\",\"CDM\":\"Mediocampista defensivo\",\n",
    "\"CAM\":\"Mediocampista ofensivo\",\"RM\":\"Mediocampista lateral\",\"LM\":\"Mediocampista lateral (Mediocampista derecho)\",\n",
    "\"ST\":\"Delantero\",\"CF\":\"Delantero central\",\"RF\":\"Delantero derecho\",\"LF\":\"Delantero izquierdo\",\n",
    "\"RW\":\"Extremo (Extremo derecho)\",\"LW\":\"Extremo (Extremo izquierdo)\"}\n",
    "\n",
    "def pot(x):\n",
    "    if (int(x)<60):\n",
    "        return \"Regular\"\n",
    "    elif(int(x)<=79):\n",
    "        return \"Bueno\"\n",
    "    elif(int(x)<=89):\n",
    "        return \"Muy bueno\"\n",
    "    else:\n",
    "        return \"Sobresaliente\"\n",
    "\n",
    "def name(x):\n",
    "    lista=  x.split('|')\n",
    "    nombres = [nomb_posiciones[x] for x in lista]\n",
    "    nombres_unidos= '|'.join(nombres)\n",
    "    return nombres_unidos\n",
    "\n",
    "df = pd.read_csv('fifa21.csv', encoding=\"utf-8\", delimiter=\";\")\n",
    "columnas= df.columns\n",
    "df = df[[columnas[8],columnas[2],columnas[3], columnas[5], columnas[7], columnas[1]]]\n",
    "df.columns = [x.upper() for x in df.columns]\n",
    "df.columns\n",
    "df['POSITION']= df['POSITION'].apply(name)\n",
    "#df['POSITION']= [x.split('|') for x in df['POSITION']]\n",
    "df['POTENTIAL']= df['POTENTIAL'].apply(pot)\n",
    "df.to_csv('fifa_formateado.csv',index= False)\n"
   ]
  }
 ],
 "metadata": {
  "kernelspec": {
   "display_name": "Python 3.10.4 ('venv': venv)",
   "language": "python",
   "name": "python3"
  },
  "language_info": {
   "codemirror_mode": {
    "name": "ipython",
    "version": 3
   },
   "file_extension": ".py",
   "mimetype": "text/x-python",
   "name": "python",
   "nbconvert_exporter": "python",
   "pygments_lexer": "ipython3",
   "version": "3.10.4"
  },
  "orig_nbformat": 4,
  "vscode": {
   "interpreter": {
    "hash": "510a4fde98596ad99dcb34940c80b061270ff835c7c4cf718916ec3ce7209ab7"
   }
  }
 },
 "nbformat": 4,
 "nbformat_minor": 2
}
