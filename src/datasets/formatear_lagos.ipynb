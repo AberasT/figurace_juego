{
 "cells": [
  {
   "cell_type": "markdown",
   "id": "dab0d7c0",
   "metadata": {},
   "source": [
    "Script para formatear lagos"
   ]
  },
  {
   "cell_type": "markdown",
   "id": "bfe5b9ef",
   "metadata": {},
   "source": [
    "En el siguiente bloque de codigo, importo los paquetes necesarios y defino esta funcion que solamente toma un string de coordenadas con el formato DMS y lo transforma a un string de coordenadas con formato decimal"
   ]
  },
  {
   "cell_type": "code",
   "execution_count": 3,
   "id": "1a376c06",
   "metadata": {},
   "outputs": [],
   "source": [
    "import pandas as pd\n",
    "import os\n",
    "\n",
    "def convertir_decimal(coordenadas):\n",
    "\n",
    "    lista_de_coordenadas = coordenadas.split()\n",
    "    coordenadas_d = ''\n",
    "    for coordenada in lista_de_coordenadas:\n",
    "        grado = float(coordenada.split('°')[0])\n",
    "        minuto = float(coordenada.replace(\"°\", \"'\").split(\"'\")[1])\n",
    "        segundos = float(coordenada.replace('\"', \"'\").split(\"'\")[1])\n",
    "        orientacion = coordenada.split('\"')[1]\n",
    "\n",
    "        ubicacion = round(grado + (minuto / 60) + (segundos / 3600), 2)\n",
    "        if(orientacion == 'O') | (orientacion == 'S'):\n",
    "            ubicacion = ubicacion * -1\n",
    "\n",
    "        coordenadas_d += str(ubicacion) + ', '\n",
    "\n",
    "    return coordenadas_d[:-2]"
   ]
  },
  {
   "cell_type": "markdown",
   "id": "d870182c",
   "metadata": {},
   "source": [
    "El siguiente codigo del programa abre 2 archivos, uno es el csv con los datos de lagos y el otro es el csv con los datos ya formateados, en caso de no existir el nuevo archivo, lo crea"
   ]
  },
  {
   "cell_type": "code",
   "execution_count": 4,
   "id": "a9b04716",
   "metadata": {},
   "outputs": [],
   "source": [
    "ruta = os.path.join(os.getcwd(), 'Lagos Argentina - Hoja 1.csv')\n",
    "ruta2 = os.path.join(os.getcwd(), 'lagos_formateado.csv')\n",
    "\n",
    "archivo = pd.read_csv(ruta, encoding=\"utf-8\", delimiter=\",\")\n",
    "columnas = archivo.columns\n",
    "\n",
    "archivo = archivo[[columnas[1], columnas[2], columnas[3], columnas[4], columnas[5], columnas[0]]]\n",
    "for linea in range(len(archivo)):\n",
    "    archivo.at[linea, columnas[5]] = convertir_decimal(archivo.at[linea, columnas[5]])\n",
    "\n",
    "archivo.to_csv(ruta2, index=False)\n",
    "\n"
   ]
  }
 ],
 "metadata": {
  "kernelspec": {
   "display_name": "Python 3.10.2 ('venv': venv)",
   "language": "python",
   "name": "python3"
  },
  "language_info": {
   "codemirror_mode": {
    "name": "ipython",
    "version": 3
   },
   "file_extension": ".py",
   "mimetype": "text/x-python",
   "name": "python",
   "nbconvert_exporter": "python",
   "pygments_lexer": "ipython3",
   "version": "3.10.2"
  },
  "vscode": {
   "interpreter": {
    "hash": "b9912e56ee1b18bd9602950669174d7273ee2eb1273dc745219fddf4b84953c1"
   }
  }
 },
 "nbformat": 4,
 "nbformat_minor": 5
}
